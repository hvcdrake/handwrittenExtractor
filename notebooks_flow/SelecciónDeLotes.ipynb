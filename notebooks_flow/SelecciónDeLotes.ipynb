{
 "cells": [
  {
   "cell_type": "code",
   "execution_count": 3,
   "metadata": {},
   "outputs": [],
   "source": [
    "# import libraries\n",
    "import cv2\n",
    "import os\n",
    "from PIL import Image\n",
    "import datetime\n",
    "import numpy as np\n",
    "import datetime\n",
    "import numpy as np\n",
    "import math"
   ]
  },
  {
   "cell_type": "code",
   "execution_count": 2,
   "metadata": {},
   "outputs": [
    {
     "name": "stdout",
     "output_type": "stream",
     "text": [
      "Terminó. 5\n"
     ]
    }
   ],
   "source": [
    "# 1 Getting files in multiple paths\n",
    "ruta = 'C:\\\\git\\\\cuponesWong\\\\CuponesWong\\\\data\\\\'\n",
    "rutas_personas  = [arch.name for arch in os.scandir(ruta) if arch.is_dir()]\n",
    "total = 0\n",
    "\n",
    "files_lista = []\n",
    "\n",
    "for persona in rutas_personas:\n",
    "    bolsas  = [arch.name for arch in os.scandir(ruta + \"\\\\\" + persona) if arch.is_dir()]\n",
    "    for bolsa in bolsas:\n",
    "        files = [arch.name for arch in os.scandir(ruta + \"\\\\\" + persona + \"\\\\\" + bolsa) if arch.is_file()]\n",
    "        for file in files:\n",
    "            files_lista.append(ruta + \"\\\\\" + persona + \"\\\\\" + bolsa + \"\\\\\" + file)\n",
    "print(\"Terminó. {}\".format(len(files_lista)))"
   ]
  },
  {
   "cell_type": "code",
   "execution_count": 4,
   "metadata": {},
   "outputs": [],
   "source": [
    "# Loading checked numpy arrays 170k - los que no pasaron SIFT\n",
    "ruta = 'C:\\\\git\\\\cuponesWong\\\\CuponesWong\\\\data\\\\checked\\\\marzo_compras_2018\\\\'\n",
    "checked_widths = np.genfromtxt(ruta+'checked_widths.txt')\n",
    "checked_heights = np.genfromtxt(ruta+'checked_heights.txt')\n",
    "checked_cxs = np.genfromtxt(ruta+'checked_cxs.txt')\n",
    "checked_cys = np.genfromtxt(ruta+'checked_cys.txt')\n",
    "checked_files = np.load(ruta+'checked_paths.npy')"
   ]
  },
  {
   "cell_type": "code",
   "execution_count": 5,
   "metadata": {},
   "outputs": [],
   "source": [
    "getNameFromPath = lambda p: p.split('\\\\')[-1]\n",
    "v_getName = np.vectorize(getNameFromPath)"
   ]
  },
  {
   "cell_type": "code",
   "execution_count": 6,
   "metadata": {},
   "outputs": [],
   "source": [
    "checked_filenames = v_getName(checked_files)"
   ]
  },
  {
   "cell_type": "code",
   "execution_count": 7,
   "metadata": {},
   "outputs": [
    {
     "data": {
      "text/plain": [
       "(169330, 169330, 169330, 169330)"
      ]
     },
     "execution_count": 7,
     "metadata": {},
     "output_type": "execute_result"
    }
   ],
   "source": [
    "checked_files.size, checked_widths.size, checked_heights.size,checked_filenames.size"
   ]
  },
  {
   "cell_type": "code",
   "execution_count": 8,
   "metadata": {},
   "outputs": [
    {
     "name": "stdout",
     "output_type": "stream",
     "text": [
      "Terminó. 94 ['MarzoCompras-0303072019164219_00242.jpg'\n",
      " 'MarzoCompras_0202072019164459_00392.jpg'\n",
      " 'MarzoCompras_0203072019122722_00421.jpg']\n"
     ]
    }
   ],
   "source": [
    "# Cupones no validos\n",
    "ruta = 'D:\\\\GyS\\\\proyectos\\\\cuponesWong\\\\invertidosCupones\\\\CuponesNoValidos'\n",
    "\n",
    "files = [arch.name for arch in os.scandir(ruta) if arch.is_file()]\n",
    "no_validos = []\n",
    "\n",
    "for i in files:\n",
    "    no_validos.append(ruta+'\\\\'+i)\n",
    "no_validos = v_getName(np.array(no_validos))\n",
    "print(\"Terminó. {} {}\".format(len(no_validos),no_validos[:3]))"
   ]
  },
  {
   "cell_type": "code",
   "execution_count": 9,
   "metadata": {},
   "outputs": [
    {
     "name": "stdout",
     "output_type": "stream",
     "text": [
      "Terminó. 1857 ['MarzoCompras-0303072019121014_00343.jpg'\n",
      " 'MarzoCompras-0303072019121017_00450.jpg'\n",
      " 'MarzoCompras-0303072019121017_00459.jpg']\n"
     ]
    }
   ],
   "source": [
    "# Muestra de 1857\n",
    "ruta = 'C:\\\\git\\\\cuponesWong\\\\CuponesWong\\\\data\\\\muestra1800'\n",
    "\n",
    "files = [arch.name for arch in os.scandir(ruta) if arch.is_file()]\n",
    "muestra1800 = []\n",
    "\n",
    "for i in files:\n",
    "    muestra1800.append(ruta+'\\\\'+i)\n",
    "muestra1800 = v_getName(np.array(muestra1800))\n",
    "print(\"Terminó. {} {}\".format(len(muestra1800),muestra1800[:3]))"
   ]
  },
  {
   "cell_type": "code",
   "execution_count": 10,
   "metadata": {},
   "outputs": [
    {
     "name": "stdout",
     "output_type": "stream",
     "text": [
      "No encontrado\n",
      "No encontrado\n",
      "No encontrado\n",
      "No encontrado\n",
      "No encontrado\n",
      "No encontrado\n"
     ]
    }
   ],
   "source": [
    "idxs = []\n",
    "for i in range(muestra1800.size):\n",
    "    idx = np.argwhere(checked_filenames==muestra1800[i])\n",
    "    try:\n",
    "        # print('{}'.format(idx[0][0]))\n",
    "        idxs.append(idx[0][0])\n",
    "    except:\n",
    "        print('No encontrado')"
   ]
  },
  {
   "cell_type": "code",
   "execution_count": 11,
   "metadata": {},
   "outputs": [
    {
     "data": {
      "text/plain": [
       "[34142, 34249, 34258]"
      ]
     },
     "execution_count": 11,
     "metadata": {},
     "output_type": "execute_result"
    }
   ],
   "source": [
    "idxs[:3]"
   ]
  },
  {
   "cell_type": "code",
   "execution_count": 12,
   "metadata": {},
   "outputs": [],
   "source": [
    "checked_files = np.delete(checked_files, idxs)\n",
    "checked_cxs = np.delete(checked_cxs, idxs)\n",
    "checked_cys = np.delete(checked_cys, idxs)\n",
    "checked_widths = np.delete(checked_widths, idxs)\n",
    "checked_heights = np.delete(checked_heights, idxs)"
   ]
  },
  {
   "cell_type": "code",
   "execution_count": 13,
   "metadata": {},
   "outputs": [],
   "source": [
    "replacing_path = lambda s: s.replace('D:\\\\GyS\\\\proyectos\\\\cuponesWong\\\\proceso_definitivo\\\\escaneos_concursos','C:\\\\git\\\\cuponesWong\\\\CuponesWong\\\\data\\\\escaneos\\\\marzo_compras_2018')"
   ]
  },
  {
   "cell_type": "code",
   "execution_count": 14,
   "metadata": {},
   "outputs": [],
   "source": [
    "checked_files = np.array([replacing_path(xi) for xi in checked_files])"
   ]
  },
  {
   "cell_type": "code",
   "execution_count": 15,
   "metadata": {},
   "outputs": [],
   "source": [
    "# Save numpy arrays\n",
    "np.savetxt('areas_result/widths.txt', checked_widths[:50000])\n",
    "np.savetxt('areas_result/heights.txt', checked_heights[:50000])\n",
    "np.savetxt('areas_result/cxs.txt', checked_cxs[:50000])\n",
    "np.savetxt('areas_result/cys.txt', checked_cys[:50000])\n",
    "np.save('areas_result/paths', checked_files[:50000])"
   ]
  },
  {
   "cell_type": "code",
   "execution_count": null,
   "metadata": {},
   "outputs": [],
   "source": []
  }
 ],
 "metadata": {
  "kernelspec": {
   "display_name": "Python 3",
   "language": "python",
   "name": "python3"
  },
  "language_info": {
   "codemirror_mode": {
    "name": "ipython",
    "version": 3
   },
   "file_extension": ".py",
   "mimetype": "text/x-python",
   "name": "python",
   "nbconvert_exporter": "python",
   "pygments_lexer": "ipython3",
   "version": "3.6.8"
  }
 },
 "nbformat": 4,
 "nbformat_minor": 2
}
